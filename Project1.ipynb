{
 "cells": [
  {
   "cell_type": "markdown",
   "metadata": {
    "deletable": true,
    "editable": true
   },
   "source": [
    "# Project Title\n",
    "\n",
    "## Members\n",
    "\n",
    "1. First member: Berna Soysal soysalb@itu.edu.tr\n",
    "2. Second member: Hatice Aslan aslanhat@itu.edu.tr\n",
    "\n",
    "## Description of the project\n",
    "\n",
    "### The methods to be used\n",
    "\n",
    "#### SVM\n",
    "SVM (Support Vector Machines-Destek Vektör Makineleri) verileri sınıflandırma ve regresyon analizinde kullanılan denetlenen öğrenme modellerinden biridir. N-boyutlu uzayda her bir veri her özelliği bir değere sahip olacak şekilde bir koordinat ile belirlenir.Sınıflandırma için iki sınıfı ayıracak bir hiperdüzlem bulunur.SVM iki farklı sınıf arasındaki bu sınırın nasıl çizilmesi gerektiğini verilen eğitim örneği üzerinden eğitim algoritması yoluyla belirler.\n",
    "\n",
    "[Kaynak 1](https://en.wikipedia.org/wiki/Support_vector_machine#Parameter_selection) ve  \n",
    "[Kaynak 2](https://www.analyticsvidhya.com/blog/2015/10/understaing-support-vector-machine-example-code/)\n",
    "\n",
    "Eğitim örneği formu\n",
    "\n",
    " + $\\{x_i, y_i\\}$, $i=1,...,n$ ve $x_i \\in \\mathbb{R}^d$ ve $y_i \\in \\{−1, +1\\}$\n",
    " + $\\{xi\\}$: eşdeğişkenler veya girdi vektörü\n",
    " + $\\{y_i\\}$: bağımlı değişkenler\n",
    "\n",
    "Hiperdüzlemler aşağıdaki çözümleri sağlamalıdır:\n",
    " $$ w^T x_i − b ≤ −1,  ∀ y_i = −1 $$\n",
    " $$ w^T x_i − b ≥ +1,  ∀ y_i = +1 $$\n",
    " $$ y_i (w T x_i − b) − 1 ≥ 0 $$\n",
    " $$ \\alpha, \\beta, \\zeta, \\mu, \\nu, \\sum_{i=0}^{10} \\gamma_i \\delta^i_{jk} $$\n",
    " \n",
    " \n",
    " \n",
    "\n",
    "(BURADA SILDIGIM DENKLEMLER VAR. BUNLARI YUKARIDA YAZDIKLARIMA BAKARAK YENIDEN YAZIN.)\n",
    "\n",
    "\n",
    "Tümler gevşeklik kısıtlar:\n",
    "\n",
    "\n",
    "$$ ∂_bL_P = 0, w − \\sum_i α_iy_ix_i = 0 $$\n",
    "$$ ∂_bL_P = 0,  sum_i α_iy_i = 0 $$\n",
    "$$ ∂_ξL_P = 0, C − α_i − µ_i = 0 $$\n",
    "kısıt - 1 $$ y_i(w^Tx_i − b) − 1+ ξ_i ≥ 0 $$ \n",
    "    kısıt - 2 $$ ξ_i ≥ 0 $$ \n",
    "    çarpan koşulu - 1  $$ α_i ≥ 0 $$\n",
    "    çarpan koşulu - 2  $$ µ_i ≥ 0 $$\n",
    "    Tümler gevşeklik  $$ α_i[y_i(w^Tx_i − b) − 1 + ξ_i] = 0 $$ \n",
    "    \n",
    "Gelecekteki test durumlarını sınıflandırmak için kullanılacak fonksiyon:\n",
    "    $$ f(x) = w^*Tx – b^* = \\sum_i α_iy_ix^T_ix – b^* $$ \n",
    "   KKT şartlarını ve tümler gevşeklik koşulları kullanılarak b* türetilir:\n",
    "    $$b^* = \\sum_j α_jy_jx^T_jx_i − y_i$$\n",
    "    i:destek vektörü\n",
    "\n",
    "\n",
    "[Kaynak 3: A First Encounter with Machine Learning Max Welling Donald Bren School of Information and Computer Science University of California Irvine April 21, 2010](https://www.ics.uci.edu/~welling/teaching/273ASpring10/IntroMLBook.pdf)\n",
    "\n",
    "Ornek liste\n",
    "+ Bir \n",
    "+ Iki\n",
    "  1. Alt 1\n",
    "  2. Alt 2\n",
    "+ Uc\n",
    "  - Alt 1\n",
    "  - Alt 2\n",
    "\n",
    "SVM bir çok problemi başarıyla çözebilir:\n",
    "+ Text ve hypertext kategorizasyonu\n",
    "+ Email filtreleme\n",
    "+ Belgeleri konusuna göre sınıflandırma\n",
    "+ Web aramaları\n",
    "+ İmage sınıflandırması\n",
    "+ Protein sınıflandırması\n",
    "+ Kanser sınıflandırması\n",
    "+ El yazısı tanımlama\n",
    "(www.cs.utexas.edu/users/mooney/cs391L/svm.ppt)\n",
    "\n",
    "#### Decision tree\n",
    "\n",
    "Decision trees(karar ağaçları) bir hedefe ulaşma ihtimali olan stratejinin belirlenmesine yardımcı olmakla beraber\n",
    "karar analizlerinde ve operasyonel araştırmalarda kullanılır.Amaç hem kategorik hem nümerik verilerden faydalanarak\n",
    "çıkarılan basit karar kuralları ile bir hedef değişkenin değerini öngören model oluşturmaktır. \n",
    "Karar ağaçları karar düğümleri ve yaprak düğümlerinden oluşur.\n",
    "Veri madenciliğinde iki tip karar ağacı kullanılır: \n",
    "Sınıflandırma ağacı analizi ve regresyon analizi\n",
    "[Kaynak 4](https://en.wikipedia.org/wiki/Decision_tree )\n",
    "\n",
    "\n",
    "Sınıflandırma ağacı girdi olarak iki dizi alır: alıştırma örnekleri tutan seyrek veya yoğun bir dizi ve boyutu [n_samples, n_features] \n",
    "olan X dizisi, alıştırma örnekleri için sınıf etiketlerini tutan ve tamsayı değerler alan Y boyut [n_samples] dizisi.\n",
    "\n",
    "Veriyi genelleştirmeyen aşırı karmaşık ağaçlar oluşması, verideki küçük bir değişikliğin tamamen farklı bir yapı oluşturması,\n",
    "öğrenmesi zor kavramlar içermesi gibi nedenler karar ağaçlarının dezavantajlarındandır.\n",
    "En ayırt edici veriyi belirlemek için bilgi kazancı ölçülür. Bilgi kazancı ölçümünde entropi kullanılır.\n",
    "\n",
    "Satır sınıflandırmak için gerekli bilgi :  $$I(s_1,s_2,...,s_m)=-\\sum_i  (si/s)log_2(si/s),   i=1,2,...,m $$\n",
    "\n",
    "\n",
    "\n",
    "Entropi=E(A): $$\\sum_i(s_{1j}+...+s_{mj})/s]I(s_{1j},...,s_{mj})$$\n",
    "\n",
    "\n",
    "\n",
    "Kazanç(A)=$$I(s_1,...,s_m)-E(A)$$\n",
    "\n",
    "\n",
    "\n",
    "\n",
    "[Kaynak 5](www.ayhandemiriz.com/SakaryaWebSite/slides/DMHafta5.ppt)\n",
    "\n",
    "### The data\n",
    "\n",
    "Cam Tanılama Veritabanı\n",
    "Kaynaklar: https://archive.ics.uci.edu/ml/datasets/Glass+Identification\n",
    "\n",
    "Yaratıcı:\tB. German\n",
    "        -- Central Research Establishment\n",
    "           Home Office Forensic Science Service\n",
    "           Aldermaston, Reading, Berkshire RG7 4PN\n",
    "\n",
    "Donör: Vina Spiehler, Ph.D., DABFT\n",
    "               Diagnostic Products Corporation\n",
    "               (213) 776-0180 (ext 3014)\n",
    "\n",
    "Tarih: Eylül 1987\n",
    "\n",
    "Cam çeşitlerinin sınıflandırılması üzerine yapılan çalışma, suç mahallinde kalan camların doğru olarak tanımlanması ve kanıt olarak kullanılabilmesi amacıyla yapılmıştır.\n",
    "Instance sayısı: 214\n",
    "Attribute sayısı:10 \n",
    "Bu attributelara bakacak olursak:\n",
    "\n",
    "1.\tId numarası:1-214 arasında unique bir integer değeri alır.\n",
    "2.\tRI(refractive index): Kırılma endeksi, n malzemeden oluşmuş bir materyal için ışığın maddeden geçişindeki kırılma oranını gösterir. Float bir değer alır.\n",
    "3.\tNa: Bir birim ağırlığa karşılık gelen oksitin içindeki Sodyum’un ağırlık yüzdesidir. Float bir değer alır.\n",
    "4.\tMg: Bir birim ağırlığa karşılık gelen oksitin içindeki Magnezyum’un ağırlık yüzdesidir. Float bir değer alır.\n",
    "5.\tAl: Bir birim ağırlığa karşılık gelen oksitin içindeki Aluminyum’un ağırlık yüzdesidir. Float bir değer alır.\n",
    "6.\tSi: Bir birim ağırlığa karşılık gelen oksitin içindeki Silikon’un ağırlık yüzdesidir. Float bir değer alır.\n",
    "7.\tK: Bir birim ağırlığa karşılık gelen oksitin içindeki Potasyum’un ağırlık yüzdesidir. Float bir değer alır.\n",
    "8.\tCa: Bir birim ağırlığa karşılık gelen oksitin içindeki Kalsiyum’un ağırlık yüzdesidir. Float bir değer alır.\n",
    "9.\tBa:Bir birim ağırlığa karşılık gelen oksitin içindeki Baryum’un ağırlık yüzdesidir. Float bir değer alır.\n",
    "10.\tFe:Bir birim ağırlığa karşılık gelen oksitin içindeki Demir’in ağırlık yüzdesidir. Float bir değer alır.\n",
    "11.\tCam türü (sınıf attribute)\t\n",
    "    1: building_window_float_processed: Binalarda kullanılan eritilmiş camın yüzdürülerek işlem görmesinden oluşan modern camdır.\n",
    "    \n",
    "    2: building_windows_non_float_processed: Binalarda kullanılan yüzdürme işleme görmeden oluşturulan camdır.\n",
    "\t\n",
    "    3: vehicle_windows_float_processed: Araçlarda kullanılan eritilmiş camın yüzdürülerek işlem görmesinden oluşan modern camdır.\n",
    "\t\n",
    "    4: containers: konteyner\n",
    "\t\n",
    "    5: tableware:Sofra takımlarında kullanılan camdır.\n",
    "\t\n",
    "    6: headlamps:Araçlarda kullanılan far camıdır.\n",
    "\n",
    "\n",
    "\n",
    "## Code\n",
    "\n",
    "As proof of work, you must run this notebook.  Upload an HTML output of this notebook on your github account.\n"
   ]
  },
  {
   "cell_type": "code",
   "execution_count": null,
   "metadata": {
    "collapsed": true
   },
   "outputs": [],
   "source": [
    "from sklearn import tree\n",
    "X = [[0, 0], [1, 1]]\n",
    "Y = [0, 1]\n",
    "clf = tree.DecisionTreeClassifier()\n",
    "clf = clf.fit(X, Y)\n",
    "clf.predict([[2., 2.]])\n",
    "array([1])\n",
    "#( http://scikit-learn.org/stable/modules/tree.html )"
   ]
  },
  {
   "cell_type": "code",
   "execution_count": 2,
   "metadata": {
    "collapsed": false,
    "deletable": true,
    "editable": true
   },
   "outputs": [],
   "source": [
    "import pandas as pd\n",
    "glass=pd.read_csv(\"https://archive.ics.uci.edu/ml/machine-learning-databases/glass/glass.data\", header=None)"
   ]
  },
  {
   "cell_type": "markdown",
   "metadata": {
    "deletable": true,
    "editable": true
   },
   "source": [
    "Veri kumesi icinde belli kolonlari ve satirlari nasil secilecegini ogrenin. Ihtiyaciniz olacak. Asagidaki ornege bakin."
   ]
  },
  {
   "cell_type": "code",
   "execution_count": 3,
   "metadata": {
    "collapsed": false,
    "deletable": true,
    "editable": true
   },
   "outputs": [],
   "source": [
    "X = glass.iloc[:, 1:10].values\n",
    "y = glass.iloc[:, 10].values"
   ]
  },
  {
   "cell_type": "code",
   "execution_count": 8,
   "metadata": {
    "collapsed": false
   },
   "outputs": [
    {
     "name": "stdout",
     "output_type": "stream",
     "text": [
      "[[  1.52101  13.64      4.49    ...,   8.75      0.        0.     ]\n",
      " [  1.51761  13.89      3.6     ...,   7.83      0.        0.     ]\n",
      " [  1.51618  13.53      3.55    ...,   7.78      0.        0.     ]\n",
      " ..., \n",
      " [  1.52065  14.36      0.      ...,   8.44      1.64      0.     ]\n",
      " [  1.51651  14.38      0.      ...,   8.48      1.57      0.     ]\n",
      " [  1.51711  14.23      0.      ...,   8.62      1.67      0.     ]] [1 1 1 1 1 1 1 1 1 1 1 1 1 1 1 1 1 1 1 1 1 1 1 1 1 1 1 1 1 1 1 1 1 1 1 1 1\n",
      " 1 1 1 1 1 1 1 1 1 1 1 1 1 1 1 1 1 1 1 1 1 1 1 1 1 1 1 1 1 1 1 1 1 2 2 2 2\n",
      " 2 2 2 2 2 2 2 2 2 2 2 2 2 2 2 2 2 2 2 2 2 2 2 2 2 2 2 2 2 2 2 2 2 2 2 2 2\n",
      " 2 2 2 2 2 2 2 2 2 2 2 2 2 2 2 2 2 2 2 2 2 2 2 2 2 2 2 2 2 2 2 2 2 2 2 3 3\n",
      " 3 3 3 3 3 3 3 3 3 3 3 3 3 3 3 5 5 5 5 5 5 5 5 5 5 5 5 5 6 6 6 6 6 6 6 6 6\n",
      " 7 7 7 7 7 7 7 7 7 7 7 7 7 7 7 7 7 7 7 7 7 7 7 7 7 7 7 7 7]\n"
     ]
    }
   ],
   "source": [
    "print(X,y)"
   ]
  },
  {
   "cell_type": "markdown",
   "metadata": {
    "deletable": true,
    "editable": true
   },
   "source": [
    "Scikit-Learn kutuphanesi icinde svm ve logistic regression nasil yapiliyor onu ogrenin. "
   ]
  },
  {
   "cell_type": "code",
   "execution_count": 2,
   "metadata": {
    "collapsed": false,
    "deletable": true,
    "editable": true
   },
   "outputs": [],
   "source": [
    "from sklearn import svm\n",
    "from sklearn import linear_model"
   ]
  },
  {
   "cell_type": "markdown",
   "metadata": {},
   "source": [
    "#### svm"
   ]
  },
  {
   "cell_type": "code",
   "execution_count": 7,
   "metadata": {
    "collapsed": false
   },
   "outputs": [],
   "source": [
    "from sklearn.model_selection import train_test_split\n",
    "X_train, X_test, y_train, y_test = train_test_split(X, y, test_size = 0.25, random_state = 0)"
   ]
  },
  {
   "cell_type": "code",
   "execution_count": 9,
   "metadata": {
    "collapsed": false,
    "scrolled": true
   },
   "outputs": [
    {
     "data": {
      "text/plain": [
       "SVC(C=1.0, cache_size=200, class_weight=None, coef0=0.0,\n",
       "  decision_function_shape=None, degree=3, gamma='auto', kernel='linear',\n",
       "  max_iter=-1, probability=False, random_state=0, shrinking=True,\n",
       "  tol=0.001, verbose=False)"
      ]
     },
     "execution_count": 9,
     "metadata": {},
     "output_type": "execute_result"
    }
   ],
   "source": [
    "from sklearn.svm import SVC\n",
    "classifier=SVC(kernel='linear', random_state=0)\n",
    "classifier.fit(X_train, y_train)"
   ]
  },
  {
   "cell_type": "code",
   "execution_count": null,
   "metadata": {
    "collapsed": true
   },
   "outputs": [],
   "source": []
  }
 ],
 "metadata": {
  "kernelspec": {
   "display_name": "Python 3",
   "language": "python",
   "name": "python3"
  },
  "language_info": {
   "codemirror_mode": {
    "name": "ipython",
    "version": 3
   },
   "file_extension": ".py",
   "mimetype": "text/x-python",
   "name": "python",
   "nbconvert_exporter": "python",
   "pygments_lexer": "ipython3",
   "version": "3.6.0"
  }
 },
 "nbformat": 4,
 "nbformat_minor": 2
}
